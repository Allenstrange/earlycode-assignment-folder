{
 "cells": [
  {
   "cell_type": "markdown",
   "id": "8081730e",
   "metadata": {},
   "source": [
    "# Ask a user for his or her appointment date and calculate how weeks and days the user has until that appointment date from current date"
   ]
  },
  {
   "cell_type": "code",
   "execution_count": 11,
   "id": "6dccac73",
   "metadata": {},
   "outputs": [
    {
     "name": "stdout",
     "output_type": "stream",
     "text": [
      "Name: Shirley\n",
      "Age: 22\n",
      "Illment: Allergies\n",
      "Appointment Date(d/m/Y): 19/9/2022\n",
      "\n",
      "\n",
      "You Have 3 Weeks And 4 Days Till Your Appointment Day\n",
      "\n",
      "\n",
      "Name: Amaka\n",
      "Age: 25\n",
      "Illment: Severe Stomach Ache\n",
      "Appointment Date(d/m/Y): 21/10/2022\n",
      "\n",
      "\n",
      "You Have 8 Weeks And 1 Days Till Your Appointment Day\n",
      "\n",
      "\n"
     ]
    }
   ],
   "source": [
    "import datetime as dt\n",
    "class Hospital:\n",
    "    def __init__(self, name, age, illment, appointment ):\n",
    "        self.name = name\n",
    "        self.age = age\n",
    "        self.illment = illment\n",
    "        self.appointment = appointment\n",
    "    def appoint_date(self):\n",
    "        appoint1 = dt.datetime.strptime(self.appointment, '%d/%m/%Y').date()\n",
    "        due_date = (appoint1 - dt.date.today()).days\n",
    "        weeks = due_date // 7\n",
    "        days = due_date % 7\n",
    "        print('\\n')\n",
    "        print(f'you have {weeks} weeks and {days} days till your appointment day'.title())\n",
    "        print('\\n')\n",
    "           \n",
    "for i in range(2):\n",
    "    person = Hospital(input('Name: '),int(input('Age: ')),input('Illment: '),input('Appointment Date(d/m/Y): '))\n",
    "    person.appoint_date()\n",
    "        \n",
    "        \n",
    "        "
   ]
  },
  {
   "cell_type": "code",
   "execution_count": null,
   "id": "33006933",
   "metadata": {},
   "outputs": [],
   "source": []
  }
 ],
 "metadata": {
  "kernelspec": {
   "display_name": "Python 3 (ipykernel)",
   "language": "python",
   "name": "python3"
  },
  "language_info": {
   "codemirror_mode": {
    "name": "ipython",
    "version": 3
   },
   "file_extension": ".py",
   "mimetype": "text/x-python",
   "name": "python",
   "nbconvert_exporter": "python",
   "pygments_lexer": "ipython3",
   "version": "3.9.12"
  }
 },
 "nbformat": 4,
 "nbformat_minor": 5
}

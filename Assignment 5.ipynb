{
 "cells": [
  {
   "cell_type": "markdown",
   "id": "7d930eea",
   "metadata": {},
   "source": [
    "# Write a function to build a body mass index{BMI} calculator"
   ]
  },
  {
   "cell_type": "code",
   "execution_count": 61,
   "id": "f5d41a13",
   "metadata": {},
   "outputs": [
    {
     "name": "stdout",
     "output_type": "stream",
     "text": [
      "Gender(M or F): M\n",
      "Height(cm): 145\n",
      "Weight(kg): 139\n",
      "Your BMI = 66.11 (Obese)\n",
      "\n",
      "\n",
      "Your ideal weight should be 43.27kg\n"
     ]
    }
   ],
   "source": [
    "\n",
    "def BMI():\n",
    "    gender = input('Gender(M or F): ')\n",
    "    height = float(input('Height(cm): ')) \n",
    "    weight = float(input('Weight(kg): '))\n",
    "    meters = (height /100) ** 2\n",
    "    result = weight / meters\n",
    "    sizes = ['Underweight', 'Normal Weight', 'Overweight', 'Obese']\n",
    "    if result < 18.5:\n",
    "        print(f'Your BMI = {result:.2f} ({sizes[0]})')\n",
    "    elif result >=  18.5 and result <= 24.9:\n",
    "        print(f'Your BMI = {result:.2f} ({sizes[1]})')\n",
    "    elif result >= 25 and result <= 29.9:\n",
    "        print(f'Your BMI = {result:.2f} ({sizes[2]})')\n",
    "    elif result >= 30:\n",
    "        print(f'Your BMI = {result:.2f} ({sizes[3]})')\n",
    "    ideal_male = 50 + (0.91 * (height - 152.4))\n",
    "    ideal_female = 45.5 + (0.91 * (height - 152.4))\n",
    "    print('\\n')\n",
    "    if gender == 'M' or gender == 'm':\n",
    "        print(f'Your ideal weight should be {ideal_male:.2f}kg')\n",
    "    elif gender == 'F' or gender == 'f':\n",
    "        print(f'Your ideal weight should be {ideal_female:.2f}kg')\n",
    "\n",
    "BMI()"
   ]
  }
 ],
 "metadata": {
  "kernelspec": {
   "display_name": "Python 3 (ipykernel)",
   "language": "python",
   "name": "python3"
  },
  "language_info": {
   "codemirror_mode": {
    "name": "ipython",
    "version": 3
   },
   "file_extension": ".py",
   "mimetype": "text/x-python",
   "name": "python",
   "nbconvert_exporter": "python",
   "pygments_lexer": "ipython3",
   "version": "3.9.12"
  }
 },
 "nbformat": 4,
 "nbformat_minor": 5
}

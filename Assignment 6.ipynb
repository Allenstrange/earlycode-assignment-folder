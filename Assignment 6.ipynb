{
 "cells": [
  {
   "cell_type": "markdown",
   "id": "3714bf75",
   "metadata": {},
   "source": [
    "# NUMBER ONE\n",
    "\n"
   ]
  },
  {
   "cell_type": "markdown",
   "id": "d6bedfb5",
   "metadata": {},
   "source": [
    "# Create a class called BMI having the following attribute\n",
    "\n",
    "# 1.Name, Country, Gender, Age, Weight, Height\n",
    "\n",
    "# With the following Method\n",
    "\n",
    "# 1.Details, A condition to state the price per Continent, To calculate the original body mass index"
   ]
  },
  {
   "cell_type": "code",
   "execution_count": 2,
   "id": "135d8f4d",
   "metadata": {},
   "outputs": [
    {
     "name": "stdout",
     "output_type": "stream",
     "text": [
      "Name: Fred\n",
      "Country: Nigeria\n",
      "Gender: Male \n",
      "Age: 26\n",
      "Weight: 70kg  \n",
      "Height: 172.2cm \n",
      "Your BMI = 23.61 (Normal Weight)\n",
      "\n",
      "Your ideal weight should be 68.02kg\n",
      "\n",
      "---------------------------------------------------\n",
      "Name: Jane\n",
      "Country: France\n",
      "Gender: Female \n",
      "Age: 20\n",
      "Weight: 60kg  \n",
      "Height: 152cm \n",
      "Your BMI = 25.97 (Overweight)\n",
      "\n",
      "Your ideal weight should be 45.14kg\n",
      "\n",
      "---------------------------------------------------\n",
      "Name: Gerald\n",
      "Country: London\n",
      "Gender: Male \n",
      "Age: 30\n",
      "Weight: 80kg  \n",
      "Height: 175cm \n",
      "Your BMI = 26.12 (Overweight)\n",
      "\n",
      "Your ideal weight should be 70.57kg\n"
     ]
    }
   ],
   "source": [
    "class BMI:\n",
    "    def __init__ (self, Name, Country, Gender, Age, Weight, Height):\n",
    "        self.Name = Name\n",
    "        self.Country = Country\n",
    "        self.Gender = Gender\n",
    "        self.Age = Age\n",
    "        self.Weight = Weight\n",
    "        self.Height = Height\n",
    "    def details(self):\n",
    "        print(f'''Name: {self.Name}\n",
    "Country: {self.Country}\n",
    "Gender: {self.Gender} \n",
    "Age: {self.Age}\n",
    "Weight: {self.Weight}kg  \n",
    "Height: {self.Height}cm ''')\n",
    "    def price(self):\n",
    "        if self.Country == 'Nigeria'\n",
    "    def bmi(self):\n",
    "        meters = (self.Height /100) ** 2\n",
    "        result = self.Weight / meters\n",
    "        sizes = ['Underweight', 'Normal Weight', 'Overweight', 'Obese']\n",
    "        if result < 18.5:\n",
    "            print(f'Your BMI = {result:.2f} ({sizes[0]})')\n",
    "        elif result >=  18.5 and result <= 24.9:\n",
    "            print(f'Your BMI = {result:.2f} ({sizes[1]})')\n",
    "        elif result >= 25 and result <= 29.9:\n",
    "            print(f'Your BMI = {result:.2f} ({sizes[2]})')\n",
    "        elif result >= 30:\n",
    "            print(f'Your BMI = {result:.2f} ({sizes[3]})')\n",
    "        ideal_male = 50 + (0.91 * (self.Height - 152.4))\n",
    "        ideal_female = 45.5 + (0.91 * (self.Height - 152.4))\n",
    "        print()\n",
    "        if self.Gender == 'Male' or self.Gender == 'male':\n",
    "            print(f'Your ideal weight should be {ideal_male:.2f}kg')\n",
    "        elif self.Gender == 'Female' or self.Gender == 'female':\n",
    "            print(f'Your ideal weight should be {ideal_female:.2f}kg')\n",
    "        \n",
    "person1 = BMI('Fred','Nigeria','Male',26, 70, 172.2) \n",
    "person2 = BMI('Jane','France','Female',20,60,152)\n",
    "person3 = BMI('Gerald','London','Male',30,80,175)\n",
    "\n",
    "person1.details()\n",
    "person1.bmi()\n",
    "print('\\n---------------------------------------------------')\n",
    "person2.details()\n",
    "person2.bmi()\n",
    "print('\\n---------------------------------------------------')\n",
    "person3.details()\n",
    "person3.bmi()"
   ]
  },
  {
   "cell_type": "markdown",
   "id": "1cdd3eec",
   "metadata": {},
   "source": [
    "# NUMBER TWO\n",
    "\n",
    "# Create a class Marvel Character with the following attribute\n",
    "\n",
    "# 1.Name, origin, dob, main power, other power\n",
    "\n",
    "# With the following Method\n",
    "\n",
    "# 1.Deatils, and a method to return the character age"
   ]
  },
  {
   "cell_type": "code",
   "execution_count": 97,
   "id": "2caa6c62",
   "metadata": {},
   "outputs": [
    {
     "name": "stdout",
     "output_type": "stream",
     "text": [
      "Name: Spider Man\n",
      "Origin: New York City\n",
      "Date of Birth: 2001-05-25 \n",
      "Main_power: Superhuman strength and martial artist \n",
      "Other power: Enhanced senses\n",
      "Age: 21 years old\n"
     ]
    }
   ],
   "source": [
    "import datetime as dt\n",
    "\n",
    "class Marvel_character:\n",
    "    def __init__(self, Name, Origin, Dob, Main_power, Other_power):\n",
    "        self.Name = Name\n",
    "        self.Origin = Origin\n",
    "        self.Dob = Dob \n",
    "        self.Main_power = Main_power\n",
    "        self.Other_power = Other_power\n",
    "    def details(self):\n",
    "        print(f'''Name: {self.Name}\n",
    "Origin: {self.Origin}\n",
    "Date of Birth: {self.Dob} \n",
    "Main_power: {self.Main_power} \n",
    "Other power: {self.Other_power}''')\n",
    "    def character_age(self): \n",
    "        age = dt.date.today() - self.Dob\n",
    "        age = age.days \n",
    "        print(f'Age: {age//365} years old')\n",
    "        \n",
    "        \n",
    "character1 = Marvel_character('Spider Man','New York City',dt.date(2001,5,25),'Superhuman strength and martial artist','Enhanced senses') \n",
    "\n",
    "character1.details()\n",
    "character1.character_age()"
   ]
  },
  {
   "cell_type": "markdown",
   "id": "41669c40",
   "metadata": {},
   "source": [
    "# NUMBER THREE\n",
    "\n",
    "# Create A bike simulation game using class and object"
   ]
  },
  {
   "cell_type": "code",
   "execution_count": 99,
   "id": "e3c9b922",
   "metadata": {},
   "outputs": [
    {
     "name": "stdout",
     "output_type": "stream",
     "text": [
      "Ducati Supersport 950 s has started !!!!!!!!\n",
      "gear placed on 4\n",
      "enter 1 to turn on nitro and 2 to turn off nitro: 1\n",
      "nitro engaged\n",
      "game over !!!!!!! bike stopped\n"
     ]
    }
   ],
   "source": [
    "\n",
    "\n",
    "class bikesimulation:\n",
    "    def __init__(self,brand,model,color,year,speed):\n",
    "        self.brand = brand\n",
    "        self.model = model\n",
    "        self.color = color\n",
    "        self.year = year\n",
    "        self.speed = speed\n",
    "    def start(self):\n",
    "        print(f'{self.brand} {self.model} has started !!!!!!!!')\n",
    "    def gear(self, ch):\n",
    "        if ch == 1:\n",
    "            print('gear placed on 1')\n",
    "        elif ch == 2:\n",
    "            print('gear placed on 2')\n",
    "        elif ch == 3:\n",
    "            print('gear placed on 3')\n",
    "        elif ch == 4:\n",
    "            print('gear placed on 4')\n",
    "        elif ch == 5:\n",
    "            print('gear placed on 5')\n",
    "        elif ch == 6:\n",
    "            print('gear placed on 6') \n",
    "    def accelerated(self):\n",
    "        option = int(input('enter 1 to turn on nitro and 2 to turn off nitro: '))\n",
    "        if option == 1:\n",
    "            print('nitro engaged')\n",
    "        elif option == 2:\n",
    "            print('nitro disengaged')\n",
    "        else:\n",
    "            print('invalid option')\n",
    "    def stop(self):\n",
    "        print('game over !!!!!!! bike stopped')\n",
    "\n",
    "bike1 = bikesimulation('Ducati','Supersport 950 s','White', 2018, 290)\n",
    "bike2 = bikesimulation('mercedes','e300','black', 2009, 130)\n",
    "\n",
    "bike1.start()\n",
    "bike1.gear(4)\n",
    "bike1.accelerated()\n",
    "bike1.stop()\n",
    "\n",
    "       "
   ]
  }
 ],
 "metadata": {
  "kernelspec": {
   "display_name": "Python 3 (ipykernel)",
   "language": "python",
   "name": "python3"
  },
  "language_info": {
   "codemirror_mode": {
    "name": "ipython",
    "version": 3
   },
   "file_extension": ".py",
   "mimetype": "text/x-python",
   "name": "python",
   "nbconvert_exporter": "python",
   "pygments_lexer": "ipython3",
   "version": "3.9.12"
  }
 },
 "nbformat": 4,
 "nbformat_minor": 5
}

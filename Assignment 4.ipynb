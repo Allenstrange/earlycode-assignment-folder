{
 "cells": [
  {
   "cell_type": "markdown",
   "id": "6ef7c579",
   "metadata": {},
   "source": [
    "# 1. A company decided to give bonus of 5% to employee if his/her year of service is more than 5 years.\n",
    "\n",
    "# Ask user for their salary and year of service and print the net bonus amount."
   ]
  },
  {
   "cell_type": "code",
   "execution_count": 241,
   "id": "65d3c0cb",
   "metadata": {},
   "outputs": [
    {
     "name": "stdout",
     "output_type": "stream",
     "text": [
      "user salary: 800000\n",
      "year of service: 7\n",
      "\n",
      "Congrats, You Have Gotten The Bonus. This Brings Your Net Bonus Amount To 840000.0\n"
     ]
    }
   ],
   "source": [
    "user_salary = int(input('User Salary: ' ))\n",
    "year_of_service = int(input('Year of Service: '))\n",
    "bonus= user_salary * (5/100)\n",
    "net_bonus = user_salary + bonus\n",
    "print()\n",
    "\n",
    "if year_of_service < 5:\n",
    "    print('sorry, due to the fact that you haven\\'t surpassed the required years of service, NO BONUS'.title()) \n",
    "\n",
    "else:\n",
    "    if year_of_service > 5:\n",
    "        print(f'Congrats, you have gotten the bonus. This brings your net bonus amount to {net_bonus}'.title())\n"
   ]
  },
  {
   "cell_type": "markdown",
   "id": "74525dcd",
   "metadata": {},
   "source": [
    "# 2. Take two int values from user and print greatest among them."
   ]
  },
  {
   "cell_type": "code",
   "execution_count": 260,
   "id": "8ab07b13",
   "metadata": {},
   "outputs": [
    {
     "name": "stdout",
     "output_type": "stream",
     "text": [
      "Person1:45\n",
      "Person2:69\n",
      "\n",
      "Person2 Is Greatest\n"
     ]
    }
   ],
   "source": [
    "user1 = int(input('Person1:'))\n",
    "user2 = int(input('Person2:'))\n",
    "print()\n",
    "if user1 > user2:\n",
    "    print(\"person1 is greatest\".title())\n",
    "elif user2 > user1:\n",
    "    print('person2 is greatest'.title())\n",
    "\n",
    "    "
   ]
  },
  {
   "cell_type": "markdown",
   "id": "ba6a07c4",
   "metadata": {},
   "source": [
    "# 3. Take input of age of 3 people by user and determine oldest and youngest among them."
   ]
  },
  {
   "cell_type": "code",
   "execution_count": 264,
   "id": "48afc16b",
   "metadata": {},
   "outputs": [
    {
     "name": "stdout",
     "output_type": "stream",
     "text": [
      "James age: 35\n",
      "John's age: 46\n",
      "Billy's age: 24\n",
      "\n",
      "John Is The Oldest And Billy Is The Youngest\n"
     ]
    }
   ],
   "source": [
    "user1 = int(input('James age: '))\n",
    "user2 = int(input('John\\'s age: '))\n",
    "user3 = int(input('Billy\\'s age: '))\n",
    "print()\n",
    "\n",
    "if user1 > user2 and user1  > user3 and user2 > user3: \n",
    "    print('James is the oldest and billy is the youngest '.title())\n",
    "else:\n",
    "    if user1 > user2 and user1  > user3 and user2 < user3:\n",
    "        print('James is the oldest and john is the youngest '.title())\n",
    "        \n",
    "if user2 > user1 and user2  > user3 and user1 > user3:\n",
    "    print('John is the oldest and billy is the youngest'.title())\n",
    "else:\n",
    "    if user2 > user1 and user2  > user3 and user1 < user3:\n",
    "        print('John is the oldest and james is the youngest'.title())\n",
    "        \n",
    "if user3 > user1 and user3  > user2 and user1 > user2:\n",
    "    print('Billy is the oldest and John is the youngest'.title())\n",
    "else:\n",
    "    if user3 > user1 and user3  > user2 and user1 < user2:\n",
    "        print('Billy is the oldest and James is the youngest'.title())\n"
   ]
  },
  {
   "cell_type": "markdown",
   "id": "bc235e97",
   "metadata": {},
   "source": [
    "# 4. A student will not be allowed to sit in exam if his/her attendence is less than 75%.\n",
    "\n",
    "# Take following input from user\n",
    "\n",
    "# Number of classes held\n",
    "\n",
    "# Number of classes attended.\n",
    "\n",
    "# And print percentage of class attended If student is allowed to sit in exam or not."
   ]
  },
  {
   "cell_type": "code",
   "execution_count": 329,
   "id": "5c08b118",
   "metadata": {},
   "outputs": [
    {
     "name": "stdout",
     "output_type": "stream",
     "text": [
      "classes held: 60\n",
      "classes attended: 50\n",
      "\n",
      "You Are Legible To Attend This Exam. \n",
      "Your Attendance Percentage Is: 83%\n"
     ]
    }
   ],
   "source": [
    "\n",
    "classes_held = int(input('classes held: '))\n",
    "classes_attended = int(input('classes attended: '))\n",
    "result = classes_attended / classes_held * 100\n",
    "print()\n",
    "if result > 75:\n",
    "    print(f'You are legible to attend this exam. \\nYour attendance percentage is: {int(result)}%'.title())\n",
    "\n",
    "else:\n",
    "    print('You are not legible to attend this exam, as your attendance percentage is below the required mark'.title())\n",
    "\n"
   ]
  },
  {
   "cell_type": "markdown",
   "id": "61206c16",
   "metadata": {},
   "source": [
    "# 5. Ask user to enter age, sex ( M or F ), marital status ( Y or N ) and then using following rules print their place of service.\n",
    "\n",
    "# if employee is female, then she will work only in urban areas.\n",
    "\n",
    "# if employee is a male and age is in between 20 to 40 then he may work in anywhere\n",
    "\n",
    "# if employee is male and age is in between 40 t0 60 then he will work in urban areas only.\n",
    "\n",
    "# And any other input of age should print \"ERROR\"."
   ]
  },
  {
   "cell_type": "code",
   "execution_count": 328,
   "id": "8be6a77f",
   "metadata": {},
   "outputs": [
    {
     "name": "stdout",
     "output_type": "stream",
     "text": [
      "BE AWARE THAT YOUR AGE RANGE CAN ONLY BE BETWEEN 20 TO 60 YEARS!\n",
      "\n",
      "What is your sex(M or F): M\n",
      "Enter your age: 35\n",
      "Are you married(Y or N): N\n",
      "\n",
      "Your Place Of Service Will Be In Urban Area(Asokoro)\n"
     ]
    }
   ],
   "source": [
    "print('BE AWARE THAT YOUR AGE RANGE CAN ONLY BE BETWEEN 20 TO 60 YEARS!')\n",
    "print()\n",
    "import random\n",
    "employee_sex = input('What is your sex(M or F): ')\n",
    "employee_age = int(input('Enter your age: '))\n",
    "employee_marital_status = input('Are you married(Y or N): ')\n",
    "urban = ['Urban area(wuse2)','Urban area(maitama)', 'Urban  area(garki)', 'Urban area(asokoro)'] \n",
    "rural =['Rural area(peyi)', 'Rural area(jigo)', 'Rural area(pambara)', 'Rural area(byazhin)']\n",
    "print()\n",
    "\n",
    "if employee_sex == 'F' and employee_age >=20 and employee_age <=60:\n",
    "    print(f'your place of service will be in {random.choice(urban)}'.title()) \n",
    "        \n",
    "if employee_sex == 'M' and employee_age >=20 and employee_age <=40:\n",
    "    print(f'your place of service will be in {random.choice(urban+rural)}'.title())\n",
    "    \n",
    "    \n",
    "if employee_sex == 'M' and employee_age >=40 and employee_age <=60:\n",
    "    print(f'your place of service will be in {random.choice(urban)}'.title())\n",
    "\n",
    "elif employee_age <20 or employee_age >60:\n",
    "    print('ERROR ERROR ERROR')\n",
    "        \n",
    "\n",
    "\n"
   ]
  }
 ],
 "metadata": {
  "kernelspec": {
   "display_name": "Python 3 (ipykernel)",
   "language": "python",
   "name": "python3"
  },
  "language_info": {
   "codemirror_mode": {
    "name": "ipython",
    "version": 3
   },
   "file_extension": ".py",
   "mimetype": "text/x-python",
   "name": "python",
   "nbconvert_exporter": "python",
   "pygments_lexer": "ipython3",
   "version": "3.9.12"
  }
 },
 "nbformat": 4,
 "nbformat_minor": 5
}

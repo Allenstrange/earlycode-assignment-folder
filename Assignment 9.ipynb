{
 "cells": [
  {
   "cell_type": "markdown",
   "id": "99bd7914",
   "metadata": {},
   "source": [
    "### (1) Create a table for Spanish League, Italian League and French League         having the same columns name as the English premier league\n",
    "\n",
    "### (2) insert the clubs with their various records"
   ]
  },
  {
   "cell_type": "code",
   "execution_count": 43,
   "id": "91c2b2cf",
   "metadata": {},
   "outputs": [],
   "source": [
    "import pymysql"
   ]
  },
  {
   "cell_type": "code",
   "execution_count": 44,
   "id": "c1dd262c",
   "metadata": {},
   "outputs": [],
   "source": [
    "\n",
    "mydb = pymysql.connect(\n",
    "    host = 'localhost',\n",
    "    user = 'root',\n",
    "    password = 'Diamond100$',\n",
    "    database = 'footballmanagementsystem'\n",
    ")\n",
    "mycursor = mydb.cursor()"
   ]
  },
  {
   "cell_type": "code",
   "execution_count": 48,
   "id": "9a4f1ae3",
   "metadata": {},
   "outputs": [
    {
     "data": {
      "text/plain": [
       "0"
      ]
     },
     "execution_count": 48,
     "metadata": {},
     "output_type": "execute_result"
    }
   ],
   "source": [
    "\n",
    "mycursor.execute('create table Spanish_League(positionID int not null primary key,Team varchar(255) not null,MatchPlayed int not null,Win int not null, Draw int not null, Lost int not null, GoalFor int not null, GoalAgainst int not null,Goaldifference int not null,Point int not null)')"
   ]
  },
  {
   "cell_type": "code",
   "execution_count": null,
   "id": "32c119df",
   "metadata": {},
   "outputs": [],
   "source": []
  },
  {
   "cell_type": "code",
   "execution_count": 49,
   "id": "51adf75b",
   "metadata": {},
   "outputs": [],
   "source": [
    "sl = 'insert into Spanish_League(PositionID,Team,MatchPlayed,Win,Draw,Lost,GoalFor,GoalAgainst,Goaldifference,Point) values (%s,%s,%s,%s,%s,%s,%s,%s,%s,%s)'\n",
    "value = [(1,'Real Betis',3,3,0,0,6,1,5,9),\n",
    "       (2,'Villarreal',2,2,0,0,5,0,5,6),\n",
    "       (3,'Real Madrid',2,2,0,0,6,2,4,6),\n",
    "       (4,'Osasuna',3,2,0,1,4,2,2,6),\n",
    "       (5,'Real Sociedad',3,2,0,1,3,4,-1,6),\n",
    "       (6,'Barcelona',2,1,1,0,4,1,3,4),\n",
    "       (7,'Real Mallorca',3,1,1,1,3,2,1,4),\n",
    "       (8,'Athletic Bilbao',2,1,1,0,1,0,1,4),\n",
    "       (9,'Almeria',3,1,1,1,4,4,0,4),\n",
    "       (10,'Rayo Vallecano',3,1,1,1,2,2,0,4),\n",
    "       (11,'Celta Vigo',3,1,1,1,4,6,-2,4),\n",
    "       (12,'Atletico Madrid',2,1,0,1,3,2,1,3),\n",
    "       (13,'Girona',3,1,0,2,3,3,0,3),\n",
    "       (14,'Valencia',2,1,0,1,1,1,0,3),\n",
    "       (15,'sevilla',3,0,1,2,3,5,-2,1),\n",
    "       (16,'Espanyol',2,0,1,1,2,4,-2,1),\n",
    "       (17,'Real Valladolid',2,0,1,1,1,4,-3,1),\n",
    "       (18,'Elche',3,0,1,2,1,5,-4,1),\n",
    "       (19,'cadiz',2,0,0,2,0,3,-3,0),\n",
    "       (20,'Getafe',2,0,0,2,1,6,-5,0)]\n",
    "\n",
    "mycursor.executemany(sl,value)\n",
    "mydb.commit()"
   ]
  },
  {
   "cell_type": "code",
   "execution_count": null,
   "id": "23109041",
   "metadata": {},
   "outputs": [],
   "source": []
  },
  {
   "cell_type": "code",
   "execution_count": 15,
   "id": "6ba71ee2",
   "metadata": {},
   "outputs": [
    {
     "name": "stdout",
     "output_type": "stream",
     "text": [
      "(1, 'Real Betis', 3, 3, 0, 0, 6, 1, 5, 9)\n",
      "(2, 'Villarreal', 2, 2, 0, 0, 5, 0, 5, 6)\n",
      "(3, 'Real Madrid', 2, 2, 0, 0, 6, 2, 4, 6)\n",
      "(4, 'Osasuna', 3, 2, 0, 1, 4, 2, 2, 6)\n",
      "(5, 'Real Sociedad', 3, 2, 0, 1, 3, 4, -1, 6)\n",
      "(6, 'Barcelona', 2, 1, 1, 0, 4, 1, 3, 4)\n",
      "(7, 'Real Mallorca', 3, 1, 1, 1, 3, 2, 1, 4)\n",
      "(8, 'Athletic Bilbao', 2, 1, 1, 0, 1, 0, 1, 4)\n",
      "(9, 'Almeria', 3, 1, 1, 1, 4, 4, 0, 4)\n",
      "(10, 'Rayo Vallecano', 3, 1, 1, 1, 2, 2, 0, 4)\n",
      "(11, 'Celta Vigo', 3, 1, 1, 1, 4, 6, -2, 4)\n",
      "(12, 'Atletico Madrid', 2, 1, 0, 1, 3, 2, 1, 3)\n",
      "(13, 'Girona', 3, 1, 0, 2, 3, 3, 0, 3)\n",
      "(14, 'Valencia', 2, 1, 0, 1, 1, 1, 0, 3)\n",
      "(15, 'sevilla', 3, 0, 1, 2, 3, 5, -2, 1)\n",
      "(16, 'Espanyol', 2, 0, 1, 1, 2, 4, -2, 1)\n",
      "(17, 'Real Valladolid', 2, 0, 1, 1, 1, 4, -3, 1)\n",
      "(18, 'Elche', 3, 0, 1, 2, 1, 5, -4, 1)\n",
      "(19, 'cadiz', 2, 0, 0, 2, 0, 3, -3, 0)\n",
      "(20, 'Getafe', 2, 0, 0, 2, 1, 6, -5, 0)\n"
     ]
    }
   ],
   "source": [
    "mycursor.execute('select * from spanish_league')\n",
    "for x in mycursor:\n",
    "    print(x)"
   ]
  },
  {
   "cell_type": "code",
   "execution_count": 45,
   "id": "4de6731f",
   "metadata": {},
   "outputs": [
    {
     "data": {
      "text/plain": [
       "0"
      ]
     },
     "execution_count": 45,
     "metadata": {},
     "output_type": "execute_result"
    }
   ],
   "source": [
    "\n",
    "mycursor.execute('create table Italian_League(positionID int not null primary key,Team varchar(255) not null,MatchPlayed int not null,Win int not null, Draw int not null, Lost int not null, GoalFor int not null, GoalAgainst int not null,Goaldifference int not null,Point int not null)')"
   ]
  },
  {
   "cell_type": "code",
   "execution_count": 46,
   "id": "6a88c811",
   "metadata": {},
   "outputs": [],
   "source": [
    "il = 'insert into Italian_League(PositionID,Team,MatchPlayed,Win,Draw,Lost,GoalFor,GoalAgainst,Goaldifference,Point) values (%s,%s,%s,%s,%s,%s,%s,%s,%s,%s)'\n",
    "val = [(1,'AC Milan',3,2,1,0,7,3,4,7),\n",
    "       (2,'Lazio',3,2,1,0,5,2,3,7),\n",
    "       (3,'Torino',3,2,1,0,4,2,2,7),\n",
    "       (4,'Roma',3,2,1,0,3,1,2,7),\n",
    "       (5,'Napoli',2,2,0,0,9,2,7,6),\n",
    "       (6,'Inter Milan',3,2,0,1,6,4,2,6),\n",
    "       (7,'Juventus',3,1,2,0,4,1,3,5),\n",
    "       (8,'Atalanta',2,1,1,0,3,1,2,4),\n",
    "       (9,'Fiorentina',2,1,1,0,3,2,1,4),\n",
    "       (10,'Udinese',3,1,1,1,4,5,-1,4),\n",
    "       (11,'sassuolo',3,1,1,1,3,5,-2,4),\n",
    "       (12,'Spezia',3,1,1,1,3,5,-2,4),\n",
    "       (13,'Empoli',2,0,1,1,0,1,-1,1),\n",
    "       (14,'Salernitana',2,0,1,1,0,1,-1,1),\n",
    "       (15,'Sampdoria',2,0,1,1,0,2,-2,1),\n",
    "       (16,'Verona',2,0,1,1,3,6,-3,1),\n",
    "       (17,'Bologna',3,0,1,2,2,5,-3,1),\n",
    "       (18,'Lecce',2,0,0,2,1,3,-2,0),\n",
    "       (19,'Cremonese',3,0,0,3,3,6,-3,0),\n",
    "       (20,'Monza',3,0,0,3,2,8,-6,0)]\n",
    "\n",
    "mycursor.executemany(il,val)\n",
    "mydb.commit()"
   ]
  },
  {
   "cell_type": "code",
   "execution_count": 47,
   "id": "250484e7",
   "metadata": {},
   "outputs": [
    {
     "name": "stdout",
     "output_type": "stream",
     "text": [
      "(1, 'AC Milan', 3, 2, 1, 0, 7, 3, 4, 7)\n",
      "(2, 'Lazio', 3, 2, 1, 0, 5, 2, 3, 7)\n",
      "(3, 'Torino', 3, 2, 1, 0, 4, 2, 2, 7)\n",
      "(4, 'Roma', 3, 2, 1, 0, 3, 1, 2, 7)\n",
      "(5, 'Napoli', 2, 2, 0, 0, 9, 2, 7, 6)\n",
      "(6, 'Inter Milan', 3, 2, 0, 1, 6, 4, 2, 6)\n",
      "(7, 'Juventus', 3, 1, 2, 0, 4, 1, 3, 5)\n",
      "(8, 'Atalanta', 2, 1, 1, 0, 3, 1, 2, 4)\n",
      "(9, 'Fiorentina', 2, 1, 1, 0, 3, 2, 1, 4)\n",
      "(10, 'Udinese', 3, 1, 1, 1, 4, 5, -1, 4)\n",
      "(11, 'sassuolo', 3, 1, 1, 1, 3, 5, -2, 4)\n",
      "(12, 'Spezia', 3, 1, 1, 1, 3, 5, -2, 4)\n",
      "(13, 'Empoli', 2, 0, 1, 1, 0, 1, -1, 1)\n",
      "(14, 'Salernitana', 2, 0, 1, 1, 0, 1, -1, 1)\n",
      "(15, 'Sampdoria', 2, 0, 1, 1, 0, 2, -2, 1)\n",
      "(16, 'Verona', 2, 0, 1, 1, 3, 6, -3, 1)\n",
      "(17, 'Bologna', 3, 0, 1, 2, 2, 5, -3, 1)\n",
      "(18, 'Lecce', 2, 0, 0, 2, 1, 3, -2, 0)\n",
      "(19, 'Cremonese', 3, 0, 0, 3, 3, 6, -3, 0)\n",
      "(20, 'Monza', 3, 0, 0, 3, 2, 8, -6, 0)\n"
     ]
    }
   ],
   "source": [
    "\n",
    "mycursor.execute('select * from italian_league')\n",
    "for y in mycursor:\n",
    "    print(y)"
   ]
  },
  {
   "cell_type": "code",
   "execution_count": 51,
   "id": "714ba694",
   "metadata": {},
   "outputs": [
    {
     "data": {
      "text/plain": [
       "0"
      ]
     },
     "execution_count": 51,
     "metadata": {},
     "output_type": "execute_result"
    }
   ],
   "source": [
    "\n",
    "mycursor.execute('create table French_League(positionID int not null primary key,Team varchar(255) not null,MatchPlayed int not null,Win int not null, Draw int not null, Lost int not null, GoalFor int not null, GoalAgainst int not null,Goaldifference int not null,Point int not null)')"
   ]
  },
  {
   "cell_type": "code",
   "execution_count": 52,
   "id": "c72b37a2",
   "metadata": {},
   "outputs": [],
   "source": [
    "fl = 'insert into French_League(PositionID,Team,MatchPlayed,Win,Draw,Lost,GoalFor,GoalAgainst,Goaldifference,Point) values (%s,%s,%s,%s,%s,%s,%s,%s,%s,%s)'\n",
    "var = [(1,'RC Lens',4,3,1,0,9,4,5,10),\n",
    "       (2,'Paris Saint-Germain',3,3,0,0,17,3,14,9),\n",
    "       (3,'Marseille',3,2,1,0,7,3,4,7),\n",
    "       (4,'Lille',4,2,1,1,9,10,-1,7),\n",
    "       (5,'Auxerre',4,2,1,1,6,7,-1,7),\n",
    "       (6,'Lyon',2,2,0,0,6,2,4,6),\n",
    "       (7,'Clermont',3,2,0,1,5,7,-2,6),\n",
    "       (8,'Toulouse',3,1,2,0,6,3,3,5),\n",
    "       (9,'Brest',3,1,1,1,6,5,1,4),\n",
    "       (10,'Lorient',2,1,1,0,3,2,1,4),\n",
    "       (11,'Rennes',4,1,1,2,4,5,-1,4),\n",
    "       (12,'Monaco',3,1,1,1,4,6,-2,4),\n",
    "       (13,'Montpellier',3,1,0,2,6,9,-3,3),\n",
    "       (14,'Nantes',3,0,2,1,2,3,-1,2),\n",
    "       (15,'Nice',3,0,2,1,2,3,-1,2),\n",
    "       (16,'Angers',3,0,2,1,3,5,-2,2),\n",
    "       (17,'Strasbourg',4,0,2,2,3,5,-2,2),\n",
    "       (18,'AC Ajaccio',4,0,1,3,3,7,-4,1),\n",
    "       (19,'Reims',3,0,1,2,4,9,-5,1),\n",
    "       (20,'Troyes',3,0,0,3,3,10,-7,0)]\n",
    "\n",
    "mycursor.executemany(fl,var)\n",
    "mydb.commit()"
   ]
  },
  {
   "cell_type": "code",
   "execution_count": 53,
   "id": "3a5bad02",
   "metadata": {},
   "outputs": [
    {
     "name": "stdout",
     "output_type": "stream",
     "text": [
      "(1, 'RC Lens', 4, 3, 1, 0, 9, 4, 5, 10)\n",
      "(2, 'Paris Saint-Germain', 3, 3, 0, 0, 17, 3, 14, 9)\n",
      "(3, 'Marseille', 3, 2, 1, 0, 7, 3, 4, 7)\n",
      "(4, 'Lille', 4, 2, 1, 1, 9, 10, -1, 7)\n",
      "(5, 'Auxerre', 4, 2, 1, 1, 6, 7, -1, 7)\n",
      "(6, 'Lyon', 2, 2, 0, 0, 6, 2, 4, 6)\n",
      "(7, 'Clermont', 3, 2, 0, 1, 5, 7, -2, 6)\n",
      "(8, 'Toulouse', 3, 1, 2, 0, 6, 3, 3, 5)\n",
      "(9, 'Brest', 3, 1, 1, 1, 6, 5, 1, 4)\n",
      "(10, 'Lorient', 2, 1, 1, 0, 3, 2, 1, 4)\n",
      "(11, 'Rennes', 4, 1, 1, 2, 4, 5, -1, 4)\n",
      "(12, 'Monaco', 3, 1, 1, 1, 4, 6, -2, 4)\n",
      "(13, 'Montpellier', 3, 1, 0, 2, 6, 9, -3, 3)\n",
      "(14, 'Nantes', 3, 0, 2, 1, 2, 3, -1, 2)\n",
      "(15, 'Nice', 3, 0, 2, 1, 2, 3, -1, 2)\n",
      "(16, 'Angers', 3, 0, 2, 1, 3, 5, -2, 2)\n",
      "(17, 'Strasbourg', 4, 0, 2, 2, 3, 5, -2, 2)\n",
      "(18, 'AC Ajaccio', 4, 0, 1, 3, 3, 7, -4, 1)\n",
      "(19, 'Reims', 3, 0, 1, 2, 4, 9, -5, 1)\n",
      "(20, 'Troyes', 3, 0, 0, 3, 3, 10, -7, 0)\n"
     ]
    }
   ],
   "source": [
    "mycursor.execute('select * from french_league')\n",
    "for z in mycursor:\n",
    "    print(z)"
   ]
  },
  {
   "cell_type": "code",
   "execution_count": null,
   "id": "f1a958b0",
   "metadata": {},
   "outputs": [],
   "source": []
  }
 ],
 "metadata": {
  "kernelspec": {
   "display_name": "Python 3 (ipykernel)",
   "language": "python",
   "name": "python3"
  },
  "language_info": {
   "codemirror_mode": {
    "name": "ipython",
    "version": 3
   },
   "file_extension": ".py",
   "mimetype": "text/x-python",
   "name": "python",
   "nbconvert_exporter": "python",
   "pygments_lexer": "ipython3",
   "version": "3.9.12"
  }
 },
 "nbformat": 4,
 "nbformat_minor": 5
}

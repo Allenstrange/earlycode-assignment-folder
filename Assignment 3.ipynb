{
 "cells": [
  {
   "cell_type": "markdown",
   "id": "c306aab0",
   "metadata": {},
   "source": [
    "# TUPLE\n",
    "\n",
    "# Write a program to Reverse the given tuple (46, 53, 45, 48, 55, 45, 49, 51, 51, 58, 50, 55, 53, 57, 50, 46, 55, 55, 47, 57, 55)\n",
    "# Write a program to Access value 58 from the above tuple\n",
    "# Write a program to Counts the number of occurrences of item 55 from the above tuple\n",
    "# Write a program to return values 49 and 57 from the above tuple."
   ]
  },
  {
   "cell_type": "code",
   "execution_count": 18,
   "id": "8cf9f4f3",
   "metadata": {},
   "outputs": [
    {
     "name": "stdout",
     "output_type": "stream",
     "text": [
      "(55, 57, 47, 55, 55, 46, 50, 57, 53, 55, 50, 58, 51, 51, 49, 45, 55, 48, 45, 53, 46)\n"
     ]
    }
   ],
   "source": [
    "numbers = (46, 53, 45, 48, 55, 45, 49, 51, 51, 58, 50, 55, 53, 57, 50, 46, 55, 55, 47, 57, 55)\n",
    "change = reversed(numbers)\n",
    "change1 = tuple(change)\n",
    "\n",
    "\n",
    "print(change1)\n"
   ]
  },
  {
   "cell_type": "code",
   "execution_count": 42,
   "id": "7003ba93",
   "metadata": {},
   "outputs": [
    {
     "name": "stdout",
     "output_type": "stream",
     "text": [
      "58\n"
     ]
    }
   ],
   "source": [
    "print(numbers[9])"
   ]
  },
  {
   "cell_type": "code",
   "execution_count": 3,
   "id": "ca19a252",
   "metadata": {},
   "outputs": [
    {
     "name": "stdout",
     "output_type": "stream",
     "text": [
      "5\n"
     ]
    }
   ],
   "source": [
    "print(numbers.count(55))"
   ]
  },
  {
   "cell_type": "code",
   "execution_count": 5,
   "id": "5bdc19ba",
   "metadata": {},
   "outputs": [
    {
     "name": "stdout",
     "output_type": "stream",
     "text": [
      "[49, 57]\n"
     ]
    }
   ],
   "source": [
    "numbers = (46, 53, 45, 48, 55, 45, 49, 51, 51, 58, 50, 55, 53, 57, 50, 46, 55, 55, 47, 57, 55)\n",
    "change = reversed(numbers)\n",
    "change1 = tuple(change)\n",
    "\n",
    "\n",
    "print([numbers[e] for e in (6,13)])"
   ]
  },
  {
   "cell_type": "markdown",
   "id": "086ee238",
   "metadata": {},
   "source": [
    "# LIST\n",
    "# Write a program to Reverse the given list [46, 53, 45, 48, 55, 45, 49, 51, 51, 58, 50, 55, 53, 57, 50, 46, 55, 55, 47, 57, 55]\n",
    "# Write a program to Access value 58 from the above list\n",
    "# Write a program to Counts the number of occurrences of item 51 from the above list\n",
    "# Write a program to return values 49 and 57 from the above list.\n",
    "# Write a program to add item 69 after 49 in the following Python List\n",
    "# Write a program to extend [89,85,36,95,45,78] to the above list"
   ]
  },
  {
   "cell_type": "code",
   "execution_count": 3,
   "id": "6f30893c",
   "metadata": {},
   "outputs": [
    {
     "name": "stdout",
     "output_type": "stream",
     "text": [
      "[55, 57, 47, 55, 55, 46, 50, 57, 53, 55, 50, 58, 51, 51, 49, 45, 55, 48, 45, 53, 46]\n"
     ]
    }
   ],
   "source": [
    "number = [46, 53, 45, 48, 55, 45, 49, 51, 51, 58, 50, 55, 53, 57, 50, 46, 55, 55, 47, 57, 55]\n",
    "number.reverse()\n",
    "\n",
    "\n",
    "print(number)"
   ]
  },
  {
   "cell_type": "code",
   "execution_count": 146,
   "id": "04b7096b",
   "metadata": {},
   "outputs": [
    {
     "name": "stdout",
     "output_type": "stream",
     "text": [
      "58\n"
     ]
    }
   ],
   "source": [
    "numbers = [46, 53, 45, 48, 55, 45, 49, 51, 51, 58, 50, 55, 53, 57, 50, 46, 55, 55, 47, 57, 55]\n",
    "\n",
    "print(numbers[9])"
   ]
  },
  {
   "cell_type": "code",
   "execution_count": 147,
   "id": "6bf7cb1d",
   "metadata": {},
   "outputs": [
    {
     "name": "stdout",
     "output_type": "stream",
     "text": [
      "2\n"
     ]
    }
   ],
   "source": [
    "print(numbers.count(51))\n",
    "\n"
   ]
  },
  {
   "cell_type": "code",
   "execution_count": 8,
   "id": "37585fcb",
   "metadata": {},
   "outputs": [
    {
     "name": "stdout",
     "output_type": "stream",
     "text": [
      "[49, 57]\n"
     ]
    }
   ],
   "source": [
    "print([numbers[e] for e in (6,19)])"
   ]
  },
  {
   "cell_type": "code",
   "execution_count": 149,
   "id": "34831fec",
   "metadata": {},
   "outputs": [
    {
     "name": "stdout",
     "output_type": "stream",
     "text": [
      "[46, 53, 45, 48, 55, 45, 49, 69, 51, 51, 58, 50, 55, 53, 57, 50, 46, 55, 55, 47, 57, 55]\n"
     ]
    }
   ],
   "source": [
    "numbers.insert(7, 69)\n",
    "\n",
    "print(numbers)"
   ]
  },
  {
   "cell_type": "code",
   "execution_count": 150,
   "id": "caa7c9b4",
   "metadata": {},
   "outputs": [
    {
     "name": "stdout",
     "output_type": "stream",
     "text": [
      "[46, 53, 45, 48, 55, 45, 49, 69, 51, 51, 58, 50, 55, 53, 57, 50, 46, 55, 55, 47, 57, 55, 89, 85, 36, 95, 45, 78]\n"
     ]
    }
   ],
   "source": [
    "numbers2 = [89,85,36,95,45,78]\n",
    "\n",
    "numbers.extend(numbers2)\n",
    "\n",
    "print(numbers)"
   ]
  },
  {
   "cell_type": "markdown",
   "id": "1619f3b7",
   "metadata": {},
   "source": [
    "# DICTIONARY\n",
    "# Write a Python program to create a new dictionary having 10 football club names as the key with each key holding the following values(location,managersname,clubcaptain,networth,clubformation)"
   ]
  },
  {
   "cell_type": "code",
   "execution_count": 13,
   "id": "b4984525",
   "metadata": {},
   "outputs": [
    {
     "name": "stdout",
     "output_type": "stream",
     "text": [
      "\n",
      "{'Real_Madrid': {'location': 'madrid, spain', 'managersname': 'Carlo Ancelotti', 'clubcaptain': 'Karim  Benzema', 'networth': '$5.1 billion', 'clubformation': '4-3-3'}, 'FC_Barcelona': {'location': 'barcelona, spain', 'managersname': 'Xavi Hernandez', 'clubcaptain': 'Sergio Busquets', 'networth': '$4.8 billion', 'clubformation': '4-3-3'}, 'Manchester United': {'location': 'manchester, united kingdom', 'managersname': 'Erik ten Hag', 'clubcaptain': 'Harry Maguire', 'networth': '$4.6 billion', 'clubformation': '4-2-3-1'}, 'Bayern Munich': {'location': 'munich, germany', 'managersname': 'Julian Nagelsmann', 'clubcaptain': 'Manuel Neuer', 'networth': '$4.22 billion', 'clubformation': '4-2-3-1'}, 'Chelsea': {'location': 'london, united kingdom', 'managersname': 'Thomas Tuchel', 'clubcaptain': 'Cesar Azpilicueta', 'networth': '$3.2 billion', 'clubformation': '3-4-2-1'}, 'Manchester City': {'location': 'united kingdom', 'managersname': 'Pep Guardiola', 'clubcaptain': 'Iikay Gundogan', 'networth': '$4 billion', 'clubformation': '4-2-1-3'}, 'Juventus': {'location': 'turin, italy', 'managersname': 'Massimiliano Allegri', 'clubcaptain': 'Leonardo Bonucci', 'networth': '$2.45 billion', 'clubformation': '4-4-2'}, 'Arsenal': {'location': 'london, united kingdom', 'managersname': 'Mikel Arteta', 'clubcaptain': 'Martin Odegaard', 'networth': '$2.8 billion', 'clubformation': '4-3-3'}, 'AC Milan': {'location': 'milan, italy', 'managersname': 'Stefano pioli', 'clubcaptain': 'David e Calabria', 'networth': '$1.2 billion', 'clubformation': '4-2-3-1'}, 'Borussia Dortmund': {'location': 'dortmund, germany', 'managersname': 'Edin Terzic', 'clubcaptain': 'Marco Reus', 'networth': '$1.8 billion', 'clubformation': '3-4-2-1'}}\n"
     ]
    }
   ],
   "source": [
    "football_clubs = {\n",
    "    \"Real_Madrid\":{\"location\":\"madrid, spain\",\"managersname\":\"Carlo Ancelotti\",\"clubcaptain\":\"Karim  Benzema\",\"networth\":\"$5.1 billion\",\"clubformation\":\"4-3-3\"},\n",
    "   \n",
    "    \"FC_Barcelona\":{\"location\":\"barcelona, spain\",\"managersname\":\"Xavi Hernandez\",\"clubcaptain\":\"Sergio Busquets\",\"networth\":\"$4.8 billion\",\"clubformation\":\"4-3-3\"},\n",
    "    \n",
    "    \"Manchester United\":{\"location\":\"manchester, united kingdom\",\"managersname\":\"Erik ten Hag\",\"clubcaptain\":\"Harry Maguire\",\"networth\":\"$4.6 billion\",\"clubformation\":\"4-2-3-1\"},\n",
    "    \n",
    "    \"Bayern Munich\":{\"location\":\"munich, germany\",\"managersname\":\"Julian Nagelsmann\",\"clubcaptain\":\"Manuel Neuer\",\"networth\":\"$4.22 billion\",\"clubformation\":\"4-2-3-1\"},\n",
    "    \n",
    "    \"Chelsea\":{\"location\":\"london, united kingdom\",\"managersname\":\"Thomas Tuchel\",\"clubcaptain\":\"Cesar Azpilicueta\",\"networth\":\"$3.2 billion\",\"clubformation\":\"3-4-2-1\"},\n",
    "    \n",
    "    \"Manchester City\":{\"location\":\"united kingdom\",\"managersname\":\"Pep Guardiola\",\"clubcaptain\":\"Iikay Gundogan\",\"networth\":\"$4 billion\",\"clubformation\":\"4-2-1-3\"},\n",
    "    \n",
    "    \"Juventus\":{\"location\":\"turin, italy\",\"managersname\":\"Massimiliano Allegri\",\"clubcaptain\":\"Leonardo Bonucci\",\"networth\":\"$2.45 billion\",\"clubformation\":\"4-4-2\"},\n",
    "    \n",
    "    \"Arsenal\":{\"location\":\"london, united kingdom\",\"managersname\":\"Mikel Arteta\",\"clubcaptain\":\"Martin Odegaard\",\"networth\":\"$2.8 billion\",\"clubformation\":\"4-3-3\"},\n",
    "    \n",
    "    \"AC Milan\":{\"location\":\"milan, italy\",\"managersname\":\"Stefano pioli\",\"clubcaptain\":\"David e Calabria\",\"networth\":\"$1.2 billion\",\"clubformation\":\"4-2-3-1\"},\n",
    "    \n",
    "    \"Borussia Dortmund\":{\"location\":\"dortmund, germany\",\"managersname\":\"Edin Terzic\",\"clubcaptain\":\"Marco Reus\",\"networth\":\"$1.8 billion\",\"clubformation\":\"3-4-2-1\"}\n",
    "}\n",
    "    # the key is a string and sub keys and values are dictionary\n",
    "\n",
    "    \n",
    "print(football_clubs)\n",
    "\n",
    "\n"
   ]
  }
 ],
 "metadata": {
  "kernelspec": {
   "display_name": "Python 3 (ipykernel)",
   "language": "python",
   "name": "python3"
  },
  "language_info": {
   "codemirror_mode": {
    "name": "ipython",
    "version": 3
   },
   "file_extension": ".py",
   "mimetype": "text/x-python",
   "name": "python",
   "nbconvert_exporter": "python",
   "pygments_lexer": "ipython3",
   "version": "3.9.12"
  }
 },
 "nbformat": 4,
 "nbformat_minor": 5
}

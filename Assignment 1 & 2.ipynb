{
 "cells": [
  {
   "cell_type": "markdown",
   "id": "e69596b4",
   "metadata": {},
   "source": [
    "# Use the print() function to display ‘MY NAME IS JAMES’"
   ]
  },
  {
   "cell_type": "code",
   "execution_count": 1,
   "id": "70e2f68d",
   "metadata": {},
   "outputs": [
    {
     "name": "stdout",
     "output_type": "stream",
     "text": [
      "MY NAME IS JAMES\n"
     ]
    }
   ],
   "source": [
    "print('MY NAME IS JAMES')"
   ]
  },
  {
   "cell_type": "markdown",
   "id": "8a1d4e5b",
   "metadata": {},
   "source": [
    "# Declared a variable called  ‘state’ to hold the following statement ‘I’m from a well-known village with good culture in kogi state’"
   ]
  },
  {
   "cell_type": "code",
   "execution_count": 60,
   "id": "6ef38d3b",
   "metadata": {},
   "outputs": [
    {
     "name": "stdout",
     "output_type": "stream",
     "text": [
      "I'm from a well-known village with good culture in kogi state\n"
     ]
    }
   ],
   "source": [
    "state = \"I'm from a well-known village with good culture in kogi state\"\n",
    "\n",
    "print(state)"
   ]
  },
  {
   "cell_type": "markdown",
   "id": "1f9bdfb9",
   "metadata": {},
   "source": [
    "# Write a program to use string.format() method to format the following three variables as per the expected output (totalMoney = 1000, quantity = 3,price = 450) expected output I have 1000 dollars so I can buy 3 football for 450.00 dollars."
   ]
  },
  {
   "cell_type": "code",
   "execution_count": 66,
   "id": "e17758c6",
   "metadata": {},
   "outputs": [
    {
     "name": "stdout",
     "output_type": "stream",
     "text": [
      "I have 1000 dollars so i can buy 3 football for 450.00 dollars.\n"
     ]
    }
   ],
   "source": [
    "totalMoney = 1000\n",
    "quantity = 3\n",
    "price = 450\n",
    "\n",
    "# print the outcome I have 1000 dollars so i can buy 3 football for 450.00 dollars.\n",
    "\n",
    "print(\"I have {} dollars so i can buy {} football for {:.2f} dollars.\".format(totalMoney, quantity, price))\n",
    "\n",
    "\n"
   ]
  },
  {
   "cell_type": "markdown",
   "id": "ef90b078",
   "metadata": {},
   "source": [
    "# Write a program to display a poem in upper case using the multiline string"
   ]
  },
  {
   "cell_type": "code",
   "execution_count": 64,
   "id": "76d2fe06",
   "metadata": {},
   "outputs": [
    {
     "name": "stdout",
     "output_type": "stream",
     "text": [
      "\n",
      "GOD GAVE EACH OF US A SPECIAL FAMILY\n",
      "THAT WE CAN CALL OUR OWN.\n",
      "A FAMILY THAT LOVES US FOR WHO WE ARE\n",
      "\n",
      "SO WE WOULD NEVER FEEL ALONE.\n",
      "THEY MAY NOT LIKE EVERYTHING WE DO\n",
      "OR EVERYTHING WE SAY,\n",
      "BUT THE BEAUTIFUL THING ABOUT \"FAMILY\"\n",
      "IS THAT THEY LOVE US ANYWAY.\n",
      "\n",
      "SOMETIMES WE FEEL REJECTED\n",
      "BY PEOPLE WHO DO NOT CARE,\n",
      "BUT OUR HEARTS ARE WARMED WHEN REMEMBERING\n",
      "THAT OUR FAMILY IS ALWAYS THERE!\n",
      "\n",
      "SO HUG THEM A LITTLE MORE OFTEN,\n",
      "FOR SOMETIMES WE HURT THE ONES WE LOVE.\n",
      "AND TELL THEM HOW MUCH YOU LOVE THEM,\n",
      "FOR THEY WERE SENT TO YOU FROM ABOVE.\n"
     ]
    }
   ],
   "source": [
    "poem = \"\"\"\\nGod gave each of us a special family\n",
    "that we can call our own.\n",
    "A family that loves us for who we are\n",
    "\\nso we would never feel alone.\n",
    "They may not like everything we do\n",
    "or everything we say,\n",
    "but the beautiful thing about \"family\"\n",
    "is that they love us anyway.\n",
    "\\nSometimes we feel rejected\n",
    "by people who do not care,\n",
    "but our hearts are warmed when remembering\n",
    "that our family is always there!\n",
    "\\nSo hug them a little more often,\n",
    "for sometimes we hurt the ones we love.\n",
    "And tell them how much you love them,\n",
    "for they were sent to you from above.\"\"\"\n",
    "\n",
    "\n",
    "# printing the data\n",
    "print(poem.upper())"
   ]
  },
  {
   "cell_type": "markdown",
   "id": "9f20b7af",
   "metadata": {},
   "source": [
    "# Display number 458 In float using print()"
   ]
  },
  {
   "cell_type": "code",
   "execution_count": 58,
   "id": "f70874f7",
   "metadata": {},
   "outputs": [
    {
     "name": "stdout",
     "output_type": "stream",
     "text": [
      "458.0\n"
     ]
    }
   ],
   "source": [
    "number = 458\n",
    "\n",
    "# convert to float\n",
    "print(float(number))"
   ]
  },
  {
   "cell_type": "markdown",
   "id": "3ce353b8",
   "metadata": {},
   "source": [
    "# Write a program to take three names as input from a user"
   ]
  },
  {
   "cell_type": "code",
   "execution_count": 52,
   "id": "5a09c2d4",
   "metadata": {},
   "outputs": [
    {
     "name": "stdout",
     "output_type": "stream",
     "text": [
      "first person:Elon musk\n",
      "second person:Bernard Arnault\n",
      "third person:Jeff Bezos\n",
      "the top three richest people in the world are: Elon musk, Bernard Arnault, Jeff Bezos. \n"
     ]
    }
   ],
   "source": [
    "# taking the input from the user, name the three top richest people in the world\n",
    "\n",
    "firstname = input(\"first person:\")\n",
    "secondname = input(\"second person:\")\n",
    "thirdname = input(\"third person:\")\n",
    "\n",
    "\n",
    "#printing the data\n",
    "print(\"the top three richest people in the world are: {}, {}, {}. \".format(firstname, secondname, thirdname))\n"
   ]
  },
  {
   "cell_type": "markdown",
   "id": "6ee40bc7",
   "metadata": {},
   "source": [
    "# write a program to find the amount that #5000 becomes if saved for 3 years at 6% per annum compound interest"
   ]
  },
  {
   "cell_type": "code",
   "execution_count": 2,
   "id": "a650eaff",
   "metadata": {},
   "outputs": [
    {
     "name": "stdout",
     "output_type": "stream",
     "text": [
      "the amount that #5000 becomes if saved for 3 years at 6% per annum compound interest is:  5955.08\n"
     ]
    }
   ],
   "source": [
    "# inputing data\n",
    "initial_amount = 5000\n",
    "years = 3\n",
    "interest_rate = 6/100     # converting 6% into float   \n",
    "\n",
    "first_year = initial_amount * interest_rate                           # gain achieved in the first year\n",
    "second_year = (initial_amount + first_year) * interest_rate             # gain achieved in the second year \n",
    "third_year = (initial_amount + first_year + second_year) * interest_rate  # gain achieved in the third year\n",
    "total_gain = first_year + second_year + third_year                        # total gain after 3 years\n",
    "\n",
    "final_amount = initial_amount + total_gain                                # amount saved at the end of 3 years\n",
    "\n",
    "print(\"the amount that #5000 becomes if saved for 3 years at 6% per annum compound interest is: \",(final_amount))"
   ]
  },
  {
   "cell_type": "markdown",
   "id": "424a31f6",
   "metadata": {},
   "source": [
    "# Members of a family estimate that they will need 700000 to improve their house in 3 years time. they deposit 550000 at 5% per annum compound interest they add 25000 at the end of 1st year and 35000 at the end of 2nd year  write a program to find 1.their total savings after 3 years 2. by how much are their saving greater than or less than 700000 needed"
   ]
  },
  {
   "cell_type": "code",
   "execution_count": 1,
   "id": "c6396ee5",
   "metadata": {},
   "outputs": [
    {
     "name": "stdout",
     "output_type": "stream",
     "text": [
      "total savings after 3 years: 701006.25\n"
     ]
    }
   ],
   "source": [
    "# inputing data\n",
    "principal_amount = 550000\n",
    "interest_rate = 5/100    # converting to float\n",
    "time = 3\n",
    "# using formula for calculating compound interest p(1+r)^t\n",
    "end_of_first_year = principal_amount * (1+interest_rate)**1 + 25000     # profit at the end of first year with added funds\n",
    "end_of_second_year = end_of_first_year * (1+interest_rate)**1 + 35000   # profit at the end of second year with added funds\n",
    "end_of_third_year = end_of_second_year * (1+interest_rate)**1         # profit at the end of third year without added funds\n",
    "\n",
    "\n",
    "\n",
    "print(\"total savings after 3 years:\", (end_of_third_year))\n",
    "\n"
   ]
  },
  {
   "cell_type": "code",
   "execution_count": null,
   "id": "51f809aa",
   "metadata": {},
   "outputs": [],
   "source": []
  },
  {
   "cell_type": "code",
   "execution_count": 3,
   "id": "e9befc1b",
   "metadata": {},
   "outputs": [
    {
     "name": "stdout",
     "output_type": "stream",
     "text": [
      "please provide estimate value:700000\n",
      "please provide principal: 550000\n",
      "please provide first year addons value25000\n",
      "please provide second year addons value35000\n",
      "the total accumulated for saving and addons after first year is 602500.0\n",
      "the total accumulated for saving and addons after second year is 667625.0\n",
      "the total accumulated for saving and addons after third year is 701006.25\n",
      "there is an increase of 1006.25\n"
     ]
    }
   ],
   "source": [
    "def compoundinterest():\n",
    "    estimate = float(input('please provide estimate value:'))\n",
    "    time = 3\n",
    "    principal =  float(input('please provide principal: '))\n",
    "    r = 5/100\n",
    "    firstyearadd= float(input('please provide first year addons value'))\n",
    "    secondyearadd = float(input('please provide second year addons value'))\n",
    "    \n",
    "    i = (principal * r)\n",
    "    totalfirstyearsaving = i + principal + firstyearadd\n",
    "    print(f'the total accumulated for saving and addons after first year is {totalfirstyearsaving}')\n",
    "    i2 = (totalfirstyearsaving * r)\n",
    "    totalsecondyearsaving =i2 + totalfirstyearsaving + secondyearadd\n",
    "    print(f'the total accumulated for saving and addons after second year is {totalsecondyearsaving}')\n",
    "    i3 = (totalsecondyearsaving * r)\n",
    "    totalthirdyearsaving = i3 + totalsecondyearsaving\n",
    "    print(f'the total accumulated for saving and addons after third year is {totalthirdyearsaving}')\n",
    "    \n",
    "    if totalthirdyearsaving > estimate:\n",
    "        print(f'there is an increase of {totalthirdyearsaving - estimate}')\n",
    "    else:\n",
    "        print('no profit made')\n",
    "compoundinterest()        "
   ]
  },
  {
   "cell_type": "code",
   "execution_count": null,
   "id": "7c87f837",
   "metadata": {},
   "outputs": [],
   "source": []
  }
 ],
 "metadata": {
  "kernelspec": {
   "display_name": "Python 3 (ipykernel)",
   "language": "python",
   "name": "python3"
  },
  "language_info": {
   "codemirror_mode": {
    "name": "ipython",
    "version": 3
   },
   "file_extension": ".py",
   "mimetype": "text/x-python",
   "name": "python",
   "nbconvert_exporter": "python",
   "pygments_lexer": "ipython3",
   "version": "3.9.12"
  }
 },
 "nbformat": 4,
 "nbformat_minor": 5
}
